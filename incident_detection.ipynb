{
 "cells": [
  {
   "cell_type": "code",
   "execution_count": null,
   "id": "8d9cd5f1",
   "metadata": {},
   "outputs": [
    {
     "name": "stdout",
     "output_type": "stream",
     "text": [
      "Response(id='resp_67f1811d087c8192972cad418d2ae9a30ff11436de15efa4', created_at=1743880477.0, error=None, incomplete_details=None, instructions=None, metadata={}, model='gpt-4o-2024-08-06', object='response', output=[ResponseOutputMessage(id='msg_67f1811e5bcc81929ad5b49f60eb55c70ff11436de15efa4', content=[ResponseOutputText(annotations=[], text='{\"keywords\":[\"fire\",\"emergency\",\"accident\",\"panic\",\"evacuation\"]}', type='output_text')], role='assistant', status='completed', type='message')], parallel_tool_calls=True, temperature=1.0, tool_choice='auto', tools=[], top_p=1.0, max_output_tokens=None, previous_response_id=None, reasoning=Reasoning(effort=None, generate_summary=None), status='completed', text=ResponseTextConfig(format=ResponseFormatTextJSONSchemaConfig(name='keywords', schema_={'type': 'object', 'strict': True, 'name': 'keywords', 'properties': {'keywords': {'type': 'array', 'items': {'type': 'string'}}}, 'required': ['keywords'], 'additionalProperties': False}, type='json_schema', description=None, strict=True)), truncation='disabled', usage=ResponseUsage(input_tokens=1177, input_tokens_details=InputTokensDetails(cached_tokens=0), output_tokens=19, output_tokens_details=OutputTokensDetails(reasoning_tokens=0), total_tokens=1196), user=None, store=True)\n"
     ]
    }
   ],
   "source": [
    "import openai\n",
    "import base64\n",
    "import json\n",
    "from dotenv import load_dotenv\n",
    "import os\n",
    "\n",
    "load_dotenv()\n",
    "key = os.getenv(\"OPEN_API_KEY\")\n",
    "\n",
    "def encode_image(image_path):\n",
    "    with open(image_path, \"rb\") as image_file:\n",
    "        return base64.b64encode(image_file.read()).decode(\"utf-8\")\n",
    "\n",
    "image_path = \"WhatsApp Image 2025-04-05 at 13.19.46_a48c2e13.jpeg\"\n",
    "base64_image = encode_image(image_path)\n",
    "json_schema = {\n",
    "    \"type\": \"object\",\n",
    "    \"properties\": {\n",
    "        \"keywords\": {\n",
    "            \"type\": \"array\",\n",
    "            \"description\": \"List of keywords that describe the content of the image.\",\n",
    "            \"items\": {\"type\": \"string\"},\n",
    "            \"minItems\": 5,\n",
    "            \"maxItems\": 5\n",
    "        }\n",
    "    },\n",
    "    \"required\": [\"keywords\"],\n",
    "    \"additionalProperties\": False\n",
    "}\n",
    "\n",
    "prompt = (\n",
    "    \"I am sending an image of an incident. Find out whether the image indicates an emergency or not and \"\n",
    "    \"provide exactly five keywords describing the situation. Choose exclusively from keywords such as \"\n",
    "    \"'accident', 'not accident', 'emergency', 'fire', 'flood', etc. Return only a JSON object following \"\n",
    "    \"the schema provided.\"\n",
    ")\n",
    "\n",
    "client = openai.OpenAI(api_key=key)\n",
    "\n",
    "response = client.responses.create(\n",
    "    model=\"gpt-4o\",\n",
    "    input=[\n",
    "        {\n",
    "            \"role\": \"user\",\n",
    "            \"content\": [\n",
    "                {\"type\": \"input_text\", \"text\": prompt},\n",
    "                {\"type\": \"input_image\", \"image_url\": f\"data:image/jpeg;base64,{base64_image}\"}\n",
    "            ]\n",
    "        }\n",
    "    ],\n",
    "    text={\n",
    "        \"format\": {\n",
    "            \"name\":\"keywords\",\n",
    "            \"type\": \"json_schema\",\n",
    "            \"schema\": {\n",
    "                \"type\": \"object\",\n",
    "                \"strict\": True,\n",
    "                \"name\": \"keywords\",\n",
    "                \"properties\": {\n",
    "                    \"keywords\": {\n",
    "                        \"type\": \"array\",\n",
    "                        \"items\": {\"type\": \"string\"}\n",
    "                    }\n",
    "                },\n",
    "                \"required\": [\"keywords\"],\n",
    "                \"additionalProperties\": False\n",
    "            }\n",
    "        }\n",
    "    }\n",
    ")\n",
    "\n",
    "print(response)\n",
    "\n"
   ]
  },
  {
   "cell_type": "code",
   "execution_count": 6,
   "id": "12f0e1ea",
   "metadata": {},
   "outputs": [
    {
     "data": {
      "text/plain": [
       "{'keywords': ['fire', 'emergency', 'accident', 'panic', 'evacuation']}"
      ]
     },
     "execution_count": 6,
     "metadata": {},
     "output_type": "execute_result"
    }
   ],
   "source": [
    "json.loads(response.output_text) # Convert the response to JSON format"
   ]
  }
 ],
 "metadata": {
  "kernelspec": {
   "display_name": "Python 3",
   "language": "python",
   "name": "python3"
  },
  "language_info": {
   "codemirror_mode": {
    "name": "ipython",
    "version": 3
   },
   "file_extension": ".py",
   "mimetype": "text/x-python",
   "name": "python",
   "nbconvert_exporter": "python",
   "pygments_lexer": "ipython3",
   "version": "3.12.1"
  }
 },
 "nbformat": 4,
 "nbformat_minor": 5
}
